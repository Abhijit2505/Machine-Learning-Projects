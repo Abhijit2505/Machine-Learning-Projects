{
 "cells": [
  {
   "cell_type": "code",
   "execution_count": 56,
   "metadata": {},
   "outputs": [],
   "source": [
    "import pandas as pd\n",
    "import matplotlib.pyplot as plt\n",
    "from sklearn.linear_model import LogisticRegression\n",
    "from sklearn.model_selection import train_test_split\n",
    "from xgboost import XGBClassifier\n",
    "from sklearn import metrics"
   ]
  },
  {
   "cell_type": "code",
   "execution_count": 57,
   "metadata": {},
   "outputs": [],
   "source": [
    "data = pd.read_csv('plant.csv')"
   ]
  },
  {
   "cell_type": "code",
   "execution_count": 58,
   "metadata": {},
   "outputs": [
    {
     "data": {
      "text/html": [
       "<div>\n",
       "<style scoped>\n",
       "    .dataframe tbody tr th:only-of-type {\n",
       "        vertical-align: middle;\n",
       "    }\n",
       "\n",
       "    .dataframe tbody tr th {\n",
       "        vertical-align: top;\n",
       "    }\n",
       "\n",
       "    .dataframe thead th {\n",
       "        text-align: right;\n",
       "    }\n",
       "</style>\n",
       "<table border=\"1\" class=\"dataframe\">\n",
       "  <thead>\n",
       "    <tr style=\"text-align: right;\">\n",
       "      <th></th>\n",
       "      <th>MPEG-7 Color Layout0</th>\n",
       "      <th>MPEG-7 Color Layout1</th>\n",
       "      <th>MPEG-7 Color Layout2</th>\n",
       "      <th>MPEG-7 Color Layout3</th>\n",
       "      <th>MPEG-7 Color Layout4</th>\n",
       "      <th>MPEG-7 Color Layout5</th>\n",
       "      <th>MPEG-7 Color Layout6</th>\n",
       "      <th>MPEG-7 Color Layout7</th>\n",
       "      <th>MPEG-7 Color Layout8</th>\n",
       "      <th>MPEG-7 Color Layout9</th>\n",
       "      <th>...</th>\n",
       "      <th>MPEG-7 Color Layout24</th>\n",
       "      <th>MPEG-7 Color Layout25</th>\n",
       "      <th>MPEG-7 Color Layout26</th>\n",
       "      <th>MPEG-7 Color Layout27</th>\n",
       "      <th>MPEG-7 Color Layout28</th>\n",
       "      <th>MPEG-7 Color Layout29</th>\n",
       "      <th>MPEG-7 Color Layout30</th>\n",
       "      <th>MPEG-7 Color Layout31</th>\n",
       "      <th>MPEG-7 Color Layout32</th>\n",
       "      <th>class</th>\n",
       "    </tr>\n",
       "  </thead>\n",
       "  <tbody>\n",
       "    <tr>\n",
       "      <th>0</th>\n",
       "      <td>52</td>\n",
       "      <td>15</td>\n",
       "      <td>16</td>\n",
       "      <td>27</td>\n",
       "      <td>18</td>\n",
       "      <td>17</td>\n",
       "      <td>13</td>\n",
       "      <td>16</td>\n",
       "      <td>17</td>\n",
       "      <td>16</td>\n",
       "      <td>...</td>\n",
       "      <td>24</td>\n",
       "      <td>17</td>\n",
       "      <td>16</td>\n",
       "      <td>37</td>\n",
       "      <td>16</td>\n",
       "      <td>15</td>\n",
       "      <td>16</td>\n",
       "      <td>16</td>\n",
       "      <td>16</td>\n",
       "      <td>BACTERIAL_LEAF_BLIGHT</td>\n",
       "    </tr>\n",
       "    <tr>\n",
       "      <th>1</th>\n",
       "      <td>51</td>\n",
       "      <td>13</td>\n",
       "      <td>18</td>\n",
       "      <td>27</td>\n",
       "      <td>17</td>\n",
       "      <td>20</td>\n",
       "      <td>14</td>\n",
       "      <td>14</td>\n",
       "      <td>18</td>\n",
       "      <td>12</td>\n",
       "      <td>...</td>\n",
       "      <td>24</td>\n",
       "      <td>17</td>\n",
       "      <td>18</td>\n",
       "      <td>37</td>\n",
       "      <td>16</td>\n",
       "      <td>15</td>\n",
       "      <td>16</td>\n",
       "      <td>15</td>\n",
       "      <td>16</td>\n",
       "      <td>BACTERIAL_LEAF_BLIGHT</td>\n",
       "    </tr>\n",
       "    <tr>\n",
       "      <th>2</th>\n",
       "      <td>52</td>\n",
       "      <td>18</td>\n",
       "      <td>18</td>\n",
       "      <td>28</td>\n",
       "      <td>14</td>\n",
       "      <td>15</td>\n",
       "      <td>16</td>\n",
       "      <td>15</td>\n",
       "      <td>14</td>\n",
       "      <td>11</td>\n",
       "      <td>...</td>\n",
       "      <td>27</td>\n",
       "      <td>15</td>\n",
       "      <td>15</td>\n",
       "      <td>36</td>\n",
       "      <td>16</td>\n",
       "      <td>16</td>\n",
       "      <td>16</td>\n",
       "      <td>15</td>\n",
       "      <td>15</td>\n",
       "      <td>BACTERIAL_LEAF_BLIGHT</td>\n",
       "    </tr>\n",
       "    <tr>\n",
       "      <th>3</th>\n",
       "      <td>47</td>\n",
       "      <td>21</td>\n",
       "      <td>22</td>\n",
       "      <td>29</td>\n",
       "      <td>17</td>\n",
       "      <td>15</td>\n",
       "      <td>16</td>\n",
       "      <td>15</td>\n",
       "      <td>14</td>\n",
       "      <td>8</td>\n",
       "      <td>...</td>\n",
       "      <td>26</td>\n",
       "      <td>17</td>\n",
       "      <td>16</td>\n",
       "      <td>35</td>\n",
       "      <td>16</td>\n",
       "      <td>16</td>\n",
       "      <td>16</td>\n",
       "      <td>15</td>\n",
       "      <td>15</td>\n",
       "      <td>BACTERIAL_LEAF_BLIGHT</td>\n",
       "    </tr>\n",
       "    <tr>\n",
       "      <th>4</th>\n",
       "      <td>50</td>\n",
       "      <td>17</td>\n",
       "      <td>19</td>\n",
       "      <td>28</td>\n",
       "      <td>17</td>\n",
       "      <td>15</td>\n",
       "      <td>16</td>\n",
       "      <td>16</td>\n",
       "      <td>14</td>\n",
       "      <td>14</td>\n",
       "      <td>...</td>\n",
       "      <td>28</td>\n",
       "      <td>16</td>\n",
       "      <td>16</td>\n",
       "      <td>36</td>\n",
       "      <td>16</td>\n",
       "      <td>15</td>\n",
       "      <td>14</td>\n",
       "      <td>15</td>\n",
       "      <td>15</td>\n",
       "      <td>BACTERIAL_LEAF_BLIGHT</td>\n",
       "    </tr>\n",
       "  </tbody>\n",
       "</table>\n",
       "<p>5 rows × 34 columns</p>\n",
       "</div>"
      ],
      "text/plain": [
       "   MPEG-7 Color Layout0  MPEG-7 Color Layout1  MPEG-7 Color Layout2  \\\n",
       "0                    52                    15                    16   \n",
       "1                    51                    13                    18   \n",
       "2                    52                    18                    18   \n",
       "3                    47                    21                    22   \n",
       "4                    50                    17                    19   \n",
       "\n",
       "   MPEG-7 Color Layout3  MPEG-7 Color Layout4  MPEG-7 Color Layout5  \\\n",
       "0                    27                    18                    17   \n",
       "1                    27                    17                    20   \n",
       "2                    28                    14                    15   \n",
       "3                    29                    17                    15   \n",
       "4                    28                    17                    15   \n",
       "\n",
       "   MPEG-7 Color Layout6  MPEG-7 Color Layout7  MPEG-7 Color Layout8  \\\n",
       "0                    13                    16                    17   \n",
       "1                    14                    14                    18   \n",
       "2                    16                    15                    14   \n",
       "3                    16                    15                    14   \n",
       "4                    16                    16                    14   \n",
       "\n",
       "   MPEG-7 Color Layout9  ...  MPEG-7 Color Layout24  MPEG-7 Color Layout25  \\\n",
       "0                    16  ...                     24                     17   \n",
       "1                    12  ...                     24                     17   \n",
       "2                    11  ...                     27                     15   \n",
       "3                     8  ...                     26                     17   \n",
       "4                    14  ...                     28                     16   \n",
       "\n",
       "   MPEG-7 Color Layout26  MPEG-7 Color Layout27  MPEG-7 Color Layout28  \\\n",
       "0                     16                     37                     16   \n",
       "1                     18                     37                     16   \n",
       "2                     15                     36                     16   \n",
       "3                     16                     35                     16   \n",
       "4                     16                     36                     16   \n",
       "\n",
       "   MPEG-7 Color Layout29  MPEG-7 Color Layout30  MPEG-7 Color Layout31  \\\n",
       "0                     15                     16                     16   \n",
       "1                     15                     16                     15   \n",
       "2                     16                     16                     15   \n",
       "3                     16                     16                     15   \n",
       "4                     15                     14                     15   \n",
       "\n",
       "   MPEG-7 Color Layout32                  class  \n",
       "0                     16  BACTERIAL_LEAF_BLIGHT  \n",
       "1                     16  BACTERIAL_LEAF_BLIGHT  \n",
       "2                     15  BACTERIAL_LEAF_BLIGHT  \n",
       "3                     15  BACTERIAL_LEAF_BLIGHT  \n",
       "4                     15  BACTERIAL_LEAF_BLIGHT  \n",
       "\n",
       "[5 rows x 34 columns]"
      ]
     },
     "execution_count": 58,
     "metadata": {},
     "output_type": "execute_result"
    }
   ],
   "source": [
    "data.head()"
   ]
  },
  {
   "cell_type": "code",
   "execution_count": 59,
   "metadata": {},
   "outputs": [],
   "source": [
    "\n",
    "X_train, X_test, y_train, y_test =train_test_split(data[['MPEG-7 Color Layout0','MPEG-7 Color Layout1','MPEG-7 Color Layout2',\n",
    "                                                         'MPEG-7 Color Layout3','MPEG-7 Color Layout4','MPEG-7 Color Layout5',\n",
    "                                                         'MPEG-7 Color Layout6','MPEG-7 Color Layout7','MPEG-7 Color Layout8',\n",
    "                                                         'MPEG-7 Color Layout9','MPEG-7 Color Layout10','MPEG-7 Color Layout11',\n",
    "                                                         'MPEG-7 Color Layout12','MPEG-7 Color Layout13','MPEG-7 Color Layout14',\n",
    "                                                         'MPEG-7 Color Layout15','MPEG-7 Color Layout16','MPEG-7 Color Layout17',\n",
    "                                                         'MPEG-7 Color Layout18','MPEG-7 Color Layout19','MPEG-7 Color Layout20',\n",
    "                                                         'MPEG-7 Color Layout21','MPEG-7 Color Layout22','MPEG-7 Color Layout23',\n",
    "                                                         'MPEG-7 Color Layout24','MPEG-7 Color Layout25','MPEG-7 Color Layout26',\n",
    "                                                         'MPEG-7 Color Layout27','MPEG-7 Color Layout28','MPEG-7 Color Layout29',\n",
    "                                                         'MPEG-7 Color Layout30','MPEG-7 Color Layout31','MPEG-7 Color Layout32']],\n",
    "                                                   data['class'],test_size=0.2)"
   ]
  },
  {
   "cell_type": "code",
   "execution_count": 60,
   "metadata": {},
   "outputs": [
    {
     "data": {
      "text/plain": [
       "LogisticRegression(max_iter=100000)"
      ]
     },
     "execution_count": 60,
     "metadata": {},
     "output_type": "execute_result"
    }
   ],
   "source": [
    "logreg = LogisticRegression(max_iter=100000)\n",
    "logreg.fit(X_train,y_train)"
   ]
  },
  {
   "cell_type": "code",
   "execution_count": 61,
   "metadata": {},
   "outputs": [],
   "source": [
    "y_pred = logreg.predict(X_test)"
   ]
  },
  {
   "cell_type": "code",
   "execution_count": 62,
   "metadata": {},
   "outputs": [
    {
     "name": "stdout",
     "output_type": "stream",
     "text": [
      "Accuracy: 70.83333333333334\n",
      "Precision: 70.83333333333334\n",
      "Recall: 70.27137736815156\n"
     ]
    }
   ],
   "source": [
    "print(\"Accuracy:\",metrics.accuracy_score(y_test, y_pred)*100)\n",
    "print(\"Precision:\",metrics.precision_score(y_test, y_pred,average='micro')*100)\n",
    "print(\"Recall:\",metrics.recall_score(y_test, y_pred,average='macro')*100)"
   ]
  },
  {
   "cell_type": "code",
   "execution_count": 48,
   "metadata": {},
   "outputs": [
    {
     "data": {
      "text/plain": [
       "XGBClassifier(base_score=0.5, booster='gbtree', colsample_bylevel=1,\n",
       "              colsample_bynode=1, colsample_bytree=1, gamma=0, gpu_id=-1,\n",
       "              importance_type='gain', interaction_constraints='',\n",
       "              learning_rate=0.300000012, max_delta_step=0, max_depth=6,\n",
       "              min_child_weight=1, missing=nan, monotone_constraints='()',\n",
       "              n_estimators=100, n_jobs=0, num_parallel_tree=1,\n",
       "              objective='multi:softprob', random_state=0, reg_alpha=0,\n",
       "              reg_lambda=1, scale_pos_weight=None, subsample=1,\n",
       "              tree_method='exact', validate_parameters=1, verbosity=None)"
      ]
     },
     "execution_count": 48,
     "metadata": {},
     "output_type": "execute_result"
    }
   ],
   "source": [
    "model=XGBClassifier()\n",
    "model.fit(X_train,y_train)"
   ]
  },
  {
   "cell_type": "code",
   "execution_count": 49,
   "metadata": {},
   "outputs": [],
   "source": [
    "y_pred_lr=model.predict(X_test)"
   ]
  },
  {
   "cell_type": "code",
   "execution_count": 54,
   "metadata": {},
   "outputs": [
    {
     "name": "stdout",
     "output_type": "stream",
     "text": [
      "Accuracy: 98.95833333333334\n",
      "Precision: 98.41269841269842\n",
      "Recall: 98.95833333333334\n"
     ]
    }
   ],
   "source": [
    "print(\"Accuracy:\",metrics.accuracy_score(y_test, y_pred_lr)*100)\n",
    "print(\"Precision:\",metrics.precision_score(y_test, y_pred_lr,average='macro')*100)\n",
    "print(\"Recall:\",metrics.recall_score(y_test, y_pred_lr,average=\"weighted\")*100)"
   ]
  },
  {
   "cell_type": "code",
   "execution_count": null,
   "metadata": {},
   "outputs": [],
   "source": []
  }
 ],
 "metadata": {
  "kernelspec": {
   "display_name": "Python 3",
   "language": "python",
   "name": "python3"
  },
  "language_info": {
   "codemirror_mode": {
    "name": "ipython",
    "version": 3
   },
   "file_extension": ".py",
   "mimetype": "text/x-python",
   "name": "python",
   "nbconvert_exporter": "python",
   "pygments_lexer": "ipython3",
   "version": "3.7.3"
  }
 },
 "nbformat": 4,
 "nbformat_minor": 2
}
